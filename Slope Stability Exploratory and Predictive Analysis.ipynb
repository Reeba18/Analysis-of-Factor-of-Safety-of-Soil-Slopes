{
 "cells": [
  {
   "cell_type": "markdown",
   "id": "173c5dd9",
   "metadata": {},
   "source": [
    "# Slope Stability Analysis"
   ]
  },
  {
   "cell_type": "code",
   "execution_count": 1,
   "id": "211a929e",
   "metadata": {},
   "outputs": [],
   "source": [
    "import pandas as pd \n",
    "import numpy as np\n",
    "import matplotlib.pyplot as plt # importing the necessary libraries"
   ]
  },
  {
   "cell_type": "code",
   "execution_count": 2,
   "id": "abb87d3d",
   "metadata": {},
   "outputs": [
    {
     "data": {
      "text/html": [
       "<div>\n",
       "<style scoped>\n",
       "    .dataframe tbody tr th:only-of-type {\n",
       "        vertical-align: middle;\n",
       "    }\n",
       "\n",
       "    .dataframe tbody tr th {\n",
       "        vertical-align: top;\n",
       "    }\n",
       "\n",
       "    .dataframe thead th {\n",
       "        text-align: right;\n",
       "    }\n",
       "</style>\n",
       "<table border=\"1\" class=\"dataframe\">\n",
       "  <thead>\n",
       "    <tr style=\"text-align: right;\">\n",
       "      <th></th>\n",
       "      <th>h(m)</th>\n",
       "      <th>q (kPa)</th>\n",
       "      <th>x (m)</th>\n",
       "      <th>φ(degrees)</th>\n",
       "      <th>c(kPa)</th>\n",
       "      <th>Slope</th>\n",
       "      <th>Slope(degrees)</th>\n",
       "      <th>FS</th>\n",
       "    </tr>\n",
       "  </thead>\n",
       "  <tbody>\n",
       "    <tr>\n",
       "      <th>0</th>\n",
       "      <td>3.0</td>\n",
       "      <td>0.0</td>\n",
       "      <td>NaN</td>\n",
       "      <td>5.0</td>\n",
       "      <td>25.0</td>\n",
       "      <td>2H:1V</td>\n",
       "      <td>26.565051</td>\n",
       "      <td>3.110</td>\n",
       "    </tr>\n",
       "    <tr>\n",
       "      <th>1</th>\n",
       "      <td>3.0</td>\n",
       "      <td>0.0</td>\n",
       "      <td>NaN</td>\n",
       "      <td>5.0</td>\n",
       "      <td>50.0</td>\n",
       "      <td>2H:1V</td>\n",
       "      <td>26.565051</td>\n",
       "      <td>5.683</td>\n",
       "    </tr>\n",
       "    <tr>\n",
       "      <th>2</th>\n",
       "      <td>3.0</td>\n",
       "      <td>0.0</td>\n",
       "      <td>NaN</td>\n",
       "      <td>5.0</td>\n",
       "      <td>100.0</td>\n",
       "      <td>2H:1V</td>\n",
       "      <td>26.565051</td>\n",
       "      <td>10.756</td>\n",
       "    </tr>\n",
       "    <tr>\n",
       "      <th>3</th>\n",
       "      <td>3.0</td>\n",
       "      <td>0.0</td>\n",
       "      <td>NaN</td>\n",
       "      <td>10.0</td>\n",
       "      <td>20.0</td>\n",
       "      <td>2H:1V</td>\n",
       "      <td>26.565051</td>\n",
       "      <td>2.857</td>\n",
       "    </tr>\n",
       "    <tr>\n",
       "      <th>4</th>\n",
       "      <td>3.0</td>\n",
       "      <td>0.0</td>\n",
       "      <td>NaN</td>\n",
       "      <td>10.0</td>\n",
       "      <td>50.0</td>\n",
       "      <td>2H:1V</td>\n",
       "      <td>26.565051</td>\n",
       "      <td>6.173</td>\n",
       "    </tr>\n",
       "  </tbody>\n",
       "</table>\n",
       "</div>"
      ],
      "text/plain": [
       "   h(m)  q (kPa)  x (m)  φ(degrees)  c(kPa)  Slope  Slope(degrees)      FS\n",
       "0   3.0      0.0    NaN         5.0    25.0  2H:1V       26.565051   3.110\n",
       "1   3.0      0.0    NaN         5.0    50.0  2H:1V       26.565051   5.683\n",
       "2   3.0      0.0    NaN         5.0   100.0  2H:1V       26.565051  10.756\n",
       "3   3.0      0.0    NaN        10.0    20.0  2H:1V       26.565051   2.857\n",
       "4   3.0      0.0    NaN        10.0    50.0  2H:1V       26.565051   6.173"
      ]
     },
     "execution_count": 2,
     "metadata": {},
     "output_type": "execute_result"
    }
   ],
   "source": [
    "df=pd.read_excel(r'D:\\GTE Project\\GTE No surcharge data.xlsx') # importing the file\n",
    "df.head()"
   ]
  },
  {
   "cell_type": "markdown",
   "id": "20d4031a",
   "metadata": {},
   "source": [
    "## Data Exploration "
   ]
  },
  {
   "cell_type": "code",
   "execution_count": 3,
   "id": "49e260ee",
   "metadata": {},
   "outputs": [
    {
     "name": "stdout",
     "output_type": "stream",
     "text": [
      "<class 'pandas.core.frame.DataFrame'>\n",
      "RangeIndex: 417 entries, 0 to 416\n",
      "Data columns (total 8 columns):\n",
      " #   Column          Non-Null Count  Dtype  \n",
      "---  ------          --------------  -----  \n",
      " 0   h(m)            416 non-null    float64\n",
      " 1   q (kPa)         416 non-null    float64\n",
      " 2   x (m)           0 non-null      float64\n",
      " 3   φ(degrees)      416 non-null    float64\n",
      " 4   c(kPa)          416 non-null    float64\n",
      " 5   Slope           416 non-null    object \n",
      " 6   Slope(degrees)  416 non-null    float64\n",
      " 7   FS              417 non-null    float64\n",
      "dtypes: float64(7), object(1)\n",
      "memory usage: 26.2+ KB\n"
     ]
    }
   ],
   "source": [
    "df.info()"
   ]
  },
  {
   "cell_type": "code",
   "execution_count": 4,
   "id": "2e22a140",
   "metadata": {},
   "outputs": [
    {
     "data": {
      "text/html": [
       "<div>\n",
       "<style scoped>\n",
       "    .dataframe tbody tr th:only-of-type {\n",
       "        vertical-align: middle;\n",
       "    }\n",
       "\n",
       "    .dataframe tbody tr th {\n",
       "        vertical-align: top;\n",
       "    }\n",
       "\n",
       "    .dataframe thead th {\n",
       "        text-align: right;\n",
       "    }\n",
       "</style>\n",
       "<table border=\"1\" class=\"dataframe\">\n",
       "  <thead>\n",
       "    <tr style=\"text-align: right;\">\n",
       "      <th></th>\n",
       "      <th>h(m)</th>\n",
       "      <th>q (kPa)</th>\n",
       "      <th>x (m)</th>\n",
       "      <th>φ(degrees)</th>\n",
       "      <th>c(kPa)</th>\n",
       "      <th>Slope(degrees)</th>\n",
       "      <th>FS</th>\n",
       "    </tr>\n",
       "  </thead>\n",
       "  <tbody>\n",
       "    <tr>\n",
       "      <th>count</th>\n",
       "      <td>416.000000</td>\n",
       "      <td>416.0</td>\n",
       "      <td>0.0</td>\n",
       "      <td>416.000000</td>\n",
       "      <td>416.000000</td>\n",
       "      <td>416.000000</td>\n",
       "      <td>417.000000</td>\n",
       "    </tr>\n",
       "    <tr>\n",
       "      <th>mean</th>\n",
       "      <td>7.500000</td>\n",
       "      <td>0.0</td>\n",
       "      <td>NaN</td>\n",
       "      <td>21.730769</td>\n",
       "      <td>53.653846</td>\n",
       "      <td>42.172517</td>\n",
       "      <td>3.954521</td>\n",
       "    </tr>\n",
       "    <tr>\n",
       "      <th>std</th>\n",
       "      <td>3.358141</td>\n",
       "      <td>0.0</td>\n",
       "      <td>NaN</td>\n",
       "      <td>11.359816</td>\n",
       "      <td>40.847827</td>\n",
       "      <td>13.941840</td>\n",
       "      <td>2.800092</td>\n",
       "    </tr>\n",
       "    <tr>\n",
       "      <th>min</th>\n",
       "      <td>3.000000</td>\n",
       "      <td>0.0</td>\n",
       "      <td>NaN</td>\n",
       "      <td>5.000000</td>\n",
       "      <td>10.000000</td>\n",
       "      <td>26.565051</td>\n",
       "      <td>0.715000</td>\n",
       "    </tr>\n",
       "    <tr>\n",
       "      <th>25%</th>\n",
       "      <td>5.250000</td>\n",
       "      <td>0.0</td>\n",
       "      <td>NaN</td>\n",
       "      <td>10.000000</td>\n",
       "      <td>20.000000</td>\n",
       "      <td>31.908813</td>\n",
       "      <td>2.104000</td>\n",
       "    </tr>\n",
       "    <tr>\n",
       "      <th>50%</th>\n",
       "      <td>7.500000</td>\n",
       "      <td>0.0</td>\n",
       "      <td>NaN</td>\n",
       "      <td>20.000000</td>\n",
       "      <td>50.000000</td>\n",
       "      <td>39.345034</td>\n",
       "      <td>3.144000</td>\n",
       "    </tr>\n",
       "    <tr>\n",
       "      <th>75%</th>\n",
       "      <td>9.750000</td>\n",
       "      <td>0.0</td>\n",
       "      <td>NaN</td>\n",
       "      <td>30.000000</td>\n",
       "      <td>100.000000</td>\n",
       "      <td>49.608737</td>\n",
       "      <td>4.927000</td>\n",
       "    </tr>\n",
       "    <tr>\n",
       "      <th>max</th>\n",
       "      <td>12.000000</td>\n",
       "      <td>0.0</td>\n",
       "      <td>NaN</td>\n",
       "      <td>40.000000</td>\n",
       "      <td>150.000000</td>\n",
       "      <td>63.434949</td>\n",
       "      <td>16.980000</td>\n",
       "    </tr>\n",
       "  </tbody>\n",
       "</table>\n",
       "</div>"
      ],
      "text/plain": [
       "             h(m)  q (kPa)  x (m)  φ(degrees)      c(kPa)  Slope(degrees)  \\\n",
       "count  416.000000    416.0    0.0  416.000000  416.000000      416.000000   \n",
       "mean     7.500000      0.0    NaN   21.730769   53.653846       42.172517   \n",
       "std      3.358141      0.0    NaN   11.359816   40.847827       13.941840   \n",
       "min      3.000000      0.0    NaN    5.000000   10.000000       26.565051   \n",
       "25%      5.250000      0.0    NaN   10.000000   20.000000       31.908813   \n",
       "50%      7.500000      0.0    NaN   20.000000   50.000000       39.345034   \n",
       "75%      9.750000      0.0    NaN   30.000000  100.000000       49.608737   \n",
       "max     12.000000      0.0    NaN   40.000000  150.000000       63.434949   \n",
       "\n",
       "               FS  \n",
       "count  417.000000  \n",
       "mean     3.954521  \n",
       "std      2.800092  \n",
       "min      0.715000  \n",
       "25%      2.104000  \n",
       "50%      3.144000  \n",
       "75%      4.927000  \n",
       "max     16.980000  "
      ]
     },
     "execution_count": 4,
     "metadata": {},
     "output_type": "execute_result"
    }
   ],
   "source": [
    "df.describe()"
   ]
  },
  {
   "cell_type": "code",
   "execution_count": 5,
   "id": "7524e5bc",
   "metadata": {},
   "outputs": [
    {
     "data": {
      "text/plain": [
       "Index(['h(m)', 'q (kPa)', 'x (m)', 'φ(degrees)', 'c(kPa)', 'Slope',\n",
       "       'Slope(degrees)', 'FS'],\n",
       "      dtype='object')"
      ]
     },
     "execution_count": 5,
     "metadata": {},
     "output_type": "execute_result"
    }
   ],
   "source": [
    "df.columns"
   ]
  },
  {
   "cell_type": "code",
   "execution_count": 6,
   "id": "f4fa331a",
   "metadata": {},
   "outputs": [
    {
     "name": "stdout",
     "output_type": "stream",
     "text": [
      "h(m)\n",
      "3.0     104\n",
      "6.0     104\n",
      "9.0     104\n",
      "12.0    104\n",
      "Name: h(m), dtype: int64\n",
      "____________________________________________________________________________________________________\n",
      "q (kPa)\n",
      "0.0    416\n",
      "Name: q (kPa), dtype: int64\n",
      "____________________________________________________________________________________________________\n",
      "x (m)\n",
      "Series([], Name: x (m), dtype: int64)\n",
      "____________________________________________________________________________________________________\n",
      "φ(degrees)\n",
      "10.0    64\n",
      "15.0    64\n",
      "5.0     48\n",
      "20.0    48\n",
      "25.0    48\n",
      "30.0    48\n",
      "35.0    48\n",
      "40.0    48\n",
      "Name: φ(degrees), dtype: int64\n",
      "____________________________________________________________________________________________________\n",
      "c(kPa)\n",
      "50.0     112\n",
      "100.0     80\n",
      "20.0      80\n",
      "10.0      48\n",
      "30.0      48\n",
      "150.0     32\n",
      "25.0      16\n",
      "Name: c(kPa), dtype: int64\n",
      "____________________________________________________________________________________________________\n",
      "Slope\n",
      "2H:1V      104\n",
      "1.5H:1V    104\n",
      "1H:1V      104\n",
      "0.5H:1V    104\n",
      "Name: Slope, dtype: int64\n",
      "____________________________________________________________________________________________________\n",
      "Slope(degrees)\n",
      "26.565051    104\n",
      "33.690068    104\n",
      "45.000000    104\n",
      "63.434949    104\n",
      "Name: Slope(degrees), dtype: int64\n",
      "____________________________________________________________________________________________________\n",
      "FS\n",
      "3.110000    2\n",
      "1.283000    2\n",
      "1.880000    2\n",
      "2.395000    2\n",
      "4.628000    2\n",
      "           ..\n",
      "3.879000    1\n",
      "2.174000    1\n",
      "8.811000    1\n",
      "6.220000    1\n",
      "7.923091    1\n",
      "Name: FS, Length: 400, dtype: int64\n",
      "____________________________________________________________________________________________________\n"
     ]
    }
   ],
   "source": [
    "for i in df.columns:                      \n",
    "    print(i)\n",
    "    print(df[i].value_counts())\n",
    "    print('_'*100)"
   ]
  },
  {
   "cell_type": "markdown",
   "id": "36f47b40",
   "metadata": {},
   "source": [
    "## Data Cleaning and Transformation"
   ]
  },
  {
   "cell_type": "code",
   "execution_count": 7,
   "id": "ebc68b87",
   "metadata": {},
   "outputs": [
    {
     "data": {
      "text/plain": [
       "Index(['h(m)', 'q (kPa)', 'x (m)', 'φ(degrees)', 'c(kPa)', 'Slope',\n",
       "       'Slope(degrees)', 'FS'],\n",
       "      dtype='object')"
      ]
     },
     "execution_count": 7,
     "metadata": {},
     "output_type": "execute_result"
    }
   ],
   "source": [
    "df1=df.copy() # making a copy of the original dataset\n",
    "df1.columns"
   ]
  },
  {
   "cell_type": "code",
   "execution_count": 8,
   "id": "20749024",
   "metadata": {},
   "outputs": [
    {
     "data": {
      "text/plain": [
       "h(m)                1\n",
       "q (kPa)             1\n",
       "x (m)             417\n",
       "φ(degrees)          1\n",
       "c(kPa)              1\n",
       "Slope               1\n",
       "Slope(degrees)      1\n",
       "FS                  0\n",
       "dtype: int64"
      ]
     },
     "execution_count": 8,
     "metadata": {},
     "output_type": "execute_result"
    }
   ],
   "source": [
    "df1.isnull().sum() # checking for null values"
   ]
  },
  {
   "cell_type": "code",
   "execution_count": 9,
   "id": "7b0b2641",
   "metadata": {},
   "outputs": [],
   "source": [
    "df1.drop('x (m)',axis=1,inplace=True) # dropping the column that has all null values"
   ]
  },
  {
   "cell_type": "code",
   "execution_count": 10,
   "id": "62c159f0",
   "metadata": {},
   "outputs": [],
   "source": [
    "df1.columns=['Height','Surcharge','Angle_of_Friction','Cohesion','Slope','Slope_Angle','FS'] \n",
    "                                                                                                         # renaming the columns"
   ]
  },
  {
   "cell_type": "code",
   "execution_count": 11,
   "id": "92c165b9",
   "metadata": {},
   "outputs": [
    {
     "data": {
      "text/plain": [
       "Index(['Height', 'Surcharge', 'Angle_of_Friction', 'Cohesion', 'Slope',\n",
       "       'Slope_Angle', 'FS'],\n",
       "      dtype='object')"
      ]
     },
     "execution_count": 11,
     "metadata": {},
     "output_type": "execute_result"
    }
   ],
   "source": [
    "df1.columns"
   ]
  },
  {
   "cell_type": "code",
   "execution_count": 12,
   "id": "d55857fe",
   "metadata": {},
   "outputs": [
    {
     "data": {
      "text/html": [
       "<div>\n",
       "<style scoped>\n",
       "    .dataframe tbody tr th:only-of-type {\n",
       "        vertical-align: middle;\n",
       "    }\n",
       "\n",
       "    .dataframe tbody tr th {\n",
       "        vertical-align: top;\n",
       "    }\n",
       "\n",
       "    .dataframe thead th {\n",
       "        text-align: right;\n",
       "    }\n",
       "</style>\n",
       "<table border=\"1\" class=\"dataframe\">\n",
       "  <thead>\n",
       "    <tr style=\"text-align: right;\">\n",
       "      <th></th>\n",
       "      <th>Height</th>\n",
       "      <th>Surcharge</th>\n",
       "      <th>Angle_of_Friction</th>\n",
       "      <th>Cohesion</th>\n",
       "      <th>Slope</th>\n",
       "      <th>Slope_Angle</th>\n",
       "      <th>FS</th>\n",
       "    </tr>\n",
       "  </thead>\n",
       "  <tbody>\n",
       "  </tbody>\n",
       "</table>\n",
       "</div>"
      ],
      "text/plain": [
       "Empty DataFrame\n",
       "Columns: [Height, Surcharge, Angle_of_Friction, Cohesion, Slope, Slope_Angle, FS]\n",
       "Index: []"
      ]
     },
     "execution_count": 12,
     "metadata": {},
     "output_type": "execute_result"
    }
   ],
   "source": [
    "df1[df1.duplicated()] # checking for duplicated records"
   ]
  },
  {
   "cell_type": "code",
   "execution_count": 13,
   "id": "f920b65c",
   "metadata": {},
   "outputs": [],
   "source": [
    "# no duplicate records"
   ]
  },
  {
   "cell_type": "code",
   "execution_count": 14,
   "id": "dd170c15",
   "metadata": {},
   "outputs": [
    {
     "data": {
      "text/plain": [
       "(417, 7)"
      ]
     },
     "execution_count": 14,
     "metadata": {},
     "output_type": "execute_result"
    }
   ],
   "source": [
    "df1.shape"
   ]
  },
  {
   "cell_type": "code",
   "execution_count": 15,
   "id": "ca95bc4a",
   "metadata": {},
   "outputs": [],
   "source": [
    "df1=df1.dropna() #dropping records with atleast one null value"
   ]
  },
  {
   "cell_type": "code",
   "execution_count": 16,
   "id": "57ba1b24",
   "metadata": {},
   "outputs": [
    {
     "data": {
      "text/plain": [
       "{'whiskers': [<matplotlib.lines.Line2D at 0x20cb32e8550>,\n",
       "  <matplotlib.lines.Line2D at 0x20cb32e8820>],\n",
       " 'caps': [<matplotlib.lines.Line2D at 0x20cb32e8af0>,\n",
       "  <matplotlib.lines.Line2D at 0x20cb32e8dc0>],\n",
       " 'boxes': [<matplotlib.lines.Line2D at 0x20cb32e83a0>],\n",
       " 'medians': [<matplotlib.lines.Line2D at 0x20cb32fe0d0>],\n",
       " 'fliers': [<matplotlib.lines.Line2D at 0x20cb32fe3a0>],\n",
       " 'means': []}"
      ]
     },
     "execution_count": 16,
     "metadata": {},
     "output_type": "execute_result"
    },
    {
     "data": {
      "image/png": "[encoded data removed]",
      "text/plain": [
       "<Figure size 640x480 with 1 Axes>"
      ]
     },
     "metadata": {},
     "output_type": "display_data"
    }
   ],
   "source": [
    "plt.boxplot(df1['FS'])   # creating a boxplot "
   ]
  },
  {
   "cell_type": "code",
   "execution_count": 17,
   "id": "b16256ad",
   "metadata": {},
   "outputs": [
    {
     "data": {
      "text/plain": [
       "count    416.000000\n",
       "mean       3.944981\n",
       "std        2.796671\n",
       "min        0.715000\n",
       "25%        2.103000\n",
       "50%        3.130500\n",
       "75%        4.916500\n",
       "max       16.980000\n",
       "Name: FS, dtype: float64"
      ]
     },
     "execution_count": 17,
     "metadata": {},
     "output_type": "execute_result"
    }
   ],
   "source": [
    "df1['FS'].describe()"
   ]
  },
  {
   "cell_type": "code",
   "execution_count": 18,
   "id": "721ed6e8",
   "metadata": {},
   "outputs": [
    {
     "name": "stdout",
     "output_type": "stream",
     "text": [
      "Lower whisker is -2.11725\n",
      "Upper whisker is 9.13675\n"
     ]
    }
   ],
   "source": [
    "Q1=df1['FS'].quantile(0.25)                          \n",
    "Q3=df1['FS'].quantile(0.75)\n",
    "IQR =Q3-Q1\n",
    "Lower_whisker=Q1-(1.5*IQR)\n",
    "Upper_whisker=Q3+(1.5*IQR)\n",
    "print('Lower whisker is {}'.format(Lower_whisker))\n",
    "print('Upper whisker is {}'.format(Upper_whisker))"
   ]
  },
  {
   "cell_type": "code",
   "execution_count": 19,
   "id": "4974a54c",
   "metadata": {},
   "outputs": [
    {
     "data": {
      "text/plain": [
       "(27, 7)"
      ]
     },
     "execution_count": 19,
     "metadata": {},
     "output_type": "execute_result"
    }
   ],
   "source": [
    "outliners=df1[df1['FS']>9.161499999999998]      # finding the outliners\n",
    "outliners.shape"
   ]
  },
  {
   "cell_type": "code",
   "execution_count": 20,
   "id": "00ecd76e",
   "metadata": {},
   "outputs": [
    {
     "data": {
      "text/plain": [
       "6.490384615384616"
      ]
     },
     "execution_count": 20,
     "metadata": {},
     "output_type": "execute_result"
    }
   ],
   "source": [
    "27/416 *100  # calculating the percentage of outliners"
   ]
  },
  {
   "cell_type": "code",
   "execution_count": 21,
   "id": "484a33d2",
   "metadata": {},
   "outputs": [
    {
     "data": {
      "text/html": [
       "<div>\n",
       "<style scoped>\n",
       "    .dataframe tbody tr th:only-of-type {\n",
       "        vertical-align: middle;\n",
       "    }\n",
       "\n",
       "    .dataframe tbody tr th {\n",
       "        vertical-align: top;\n",
       "    }\n",
       "\n",
       "    .dataframe thead th {\n",
       "        text-align: right;\n",
       "    }\n",
       "</style>\n",
       "<table border=\"1\" class=\"dataframe\">\n",
       "  <thead>\n",
       "    <tr style=\"text-align: right;\">\n",
       "      <th></th>\n",
       "      <th>Height</th>\n",
       "      <th>Surcharge</th>\n",
       "      <th>Angle_of_Friction</th>\n",
       "      <th>Cohesion</th>\n",
       "      <th>Slope</th>\n",
       "      <th>Slope_Angle</th>\n",
       "      <th>FS</th>\n",
       "    </tr>\n",
       "  </thead>\n",
       "  <tbody>\n",
       "    <tr>\n",
       "      <th>0</th>\n",
       "      <td>3.0</td>\n",
       "      <td>0.0</td>\n",
       "      <td>5.0</td>\n",
       "      <td>25.0</td>\n",
       "      <td>2H:1V</td>\n",
       "      <td>26.565051</td>\n",
       "      <td>3.110</td>\n",
       "    </tr>\n",
       "    <tr>\n",
       "      <th>1</th>\n",
       "      <td>3.0</td>\n",
       "      <td>0.0</td>\n",
       "      <td>5.0</td>\n",
       "      <td>50.0</td>\n",
       "      <td>2H:1V</td>\n",
       "      <td>26.565051</td>\n",
       "      <td>5.683</td>\n",
       "    </tr>\n",
       "    <tr>\n",
       "      <th>3</th>\n",
       "      <td>3.0</td>\n",
       "      <td>0.0</td>\n",
       "      <td>10.0</td>\n",
       "      <td>20.0</td>\n",
       "      <td>2H:1V</td>\n",
       "      <td>26.565051</td>\n",
       "      <td>2.857</td>\n",
       "    </tr>\n",
       "    <tr>\n",
       "      <th>4</th>\n",
       "      <td>3.0</td>\n",
       "      <td>0.0</td>\n",
       "      <td>10.0</td>\n",
       "      <td>50.0</td>\n",
       "      <td>2H:1V</td>\n",
       "      <td>26.565051</td>\n",
       "      <td>6.173</td>\n",
       "    </tr>\n",
       "    <tr>\n",
       "      <th>7</th>\n",
       "      <td>3.0</td>\n",
       "      <td>0.0</td>\n",
       "      <td>15.0</td>\n",
       "      <td>20.0</td>\n",
       "      <td>2H:1V</td>\n",
       "      <td>26.565051</td>\n",
       "      <td>3.224</td>\n",
       "    </tr>\n",
       "    <tr>\n",
       "      <th>...</th>\n",
       "      <td>...</td>\n",
       "      <td>...</td>\n",
       "      <td>...</td>\n",
       "      <td>...</td>\n",
       "      <td>...</td>\n",
       "      <td>...</td>\n",
       "      <td>...</td>\n",
       "    </tr>\n",
       "    <tr>\n",
       "      <th>411</th>\n",
       "      <td>12.0</td>\n",
       "      <td>0.0</td>\n",
       "      <td>35.0</td>\n",
       "      <td>30.0</td>\n",
       "      <td>0.5H:1V</td>\n",
       "      <td>63.434949</td>\n",
       "      <td>1.712</td>\n",
       "    </tr>\n",
       "    <tr>\n",
       "      <th>412</th>\n",
       "      <td>12.0</td>\n",
       "      <td>0.0</td>\n",
       "      <td>35.0</td>\n",
       "      <td>50.0</td>\n",
       "      <td>0.5H:1V</td>\n",
       "      <td>63.434949</td>\n",
       "      <td>2.241</td>\n",
       "    </tr>\n",
       "    <tr>\n",
       "      <th>413</th>\n",
       "      <td>12.0</td>\n",
       "      <td>0.0</td>\n",
       "      <td>40.0</td>\n",
       "      <td>10.0</td>\n",
       "      <td>0.5H:1V</td>\n",
       "      <td>63.434949</td>\n",
       "      <td>1.196</td>\n",
       "    </tr>\n",
       "    <tr>\n",
       "      <th>414</th>\n",
       "      <td>12.0</td>\n",
       "      <td>0.0</td>\n",
       "      <td>40.0</td>\n",
       "      <td>20.0</td>\n",
       "      <td>0.5H:1V</td>\n",
       "      <td>63.434949</td>\n",
       "      <td>1.511</td>\n",
       "    </tr>\n",
       "    <tr>\n",
       "      <th>415</th>\n",
       "      <td>12.0</td>\n",
       "      <td>0.0</td>\n",
       "      <td>40.0</td>\n",
       "      <td>30.0</td>\n",
       "      <td>0.5H:1V</td>\n",
       "      <td>63.434949</td>\n",
       "      <td>1.897</td>\n",
       "    </tr>\n",
       "  </tbody>\n",
       "</table>\n",
       "<p>389 rows × 7 columns</p>\n",
       "</div>"
      ],
      "text/plain": [
       "     Height  Surcharge  Angle_of_Friction  Cohesion    Slope  Slope_Angle  \\\n",
       "0       3.0        0.0                5.0      25.0    2H:1V    26.565051   \n",
       "1       3.0        0.0                5.0      50.0    2H:1V    26.565051   \n",
       "3       3.0        0.0               10.0      20.0    2H:1V    26.565051   \n",
       "4       3.0        0.0               10.0      50.0    2H:1V    26.565051   \n",
       "7       3.0        0.0               15.0      20.0    2H:1V    26.565051   \n",
       "..      ...        ...                ...       ...      ...          ...   \n",
       "411    12.0        0.0               35.0      30.0  0.5H:1V    63.434949   \n",
       "412    12.0        0.0               35.0      50.0  0.5H:1V    63.434949   \n",
       "413    12.0        0.0               40.0      10.0  0.5H:1V    63.434949   \n",
       "414    12.0        0.0               40.0      20.0  0.5H:1V    63.434949   \n",
       "415    12.0        0.0               40.0      30.0  0.5H:1V    63.434949   \n",
       "\n",
       "        FS  \n",
       "0    3.110  \n",
       "1    5.683  \n",
       "3    2.857  \n",
       "4    6.173  \n",
       "7    3.224  \n",
       "..     ...  \n",
       "411  1.712  \n",
       "412  2.241  \n",
       "413  1.196  \n",
       "414  1.511  \n",
       "415  1.897  \n",
       "\n",
       "[389 rows x 7 columns]"
      ]
     },
     "execution_count": 21,
     "metadata": {},
     "output_type": "execute_result"
    }
   ],
   "source": [
    "df2=df1[df1['FS']<=9.161499999999998]\n",
    "df2  # choosing the dataset devoid of outliners"
   ]
  },
  {
   "cell_type": "code",
   "execution_count": 22,
   "id": "c5c3941e",
   "metadata": {},
   "outputs": [
    {
     "name": "stderr",
     "output_type": "stream",
     "text": [
      "C:\\Users\\reeba\\AppData\\Local\\Temp\\ipykernel_14940\\1209714036.py:1: SettingWithCopyWarning: \n",
      "A value is trying to be set on a copy of a slice from a DataFrame.\n",
      "Try using .loc[row_indexer,col_indexer] = value instead\n",
      "\n",
      "See the caveats in the documentation: https://pandas.pydata.org/pandas-docs/stable/user_guide/indexing.html#returning-a-view-versus-a-copy\n",
      "  df2['Slope_Angle']=df2['Slope_Angle'].round(2) # rounding the values to 2 decimal places\n"
     ]
    }
   ],
   "source": [
    "df2['Slope_Angle']=df2['Slope_Angle'].round(2) # rounding the values to 2 decimal places"
   ]
  },
  {
   "cell_type": "code",
   "execution_count": 23,
   "id": "e2565fe5",
   "metadata": {},
   "outputs": [],
   "source": [
    "#df2.to_excel(r'D:\\GTE Project\\Cleaned_data.xlsx',index=False)"
   ]
  },
  {
   "cell_type": "markdown",
   "id": "87285964",
   "metadata": {},
   "source": [
    "## Predictive Analysis"
   ]
  },
  {
   "cell_type": "code",
   "execution_count": 24,
   "id": "dc19c999",
   "metadata": {},
   "outputs": [
    {
     "data": {
      "text/plain": [
       "Index(['Height', 'Angle_of_Friction', 'Cohesion', 'Slope_Angle'], dtype='object')"
      ]
     },
     "execution_count": 24,
     "metadata": {},
     "output_type": "execute_result"
    }
   ],
   "source": [
    "X=df2.drop(['FS','Surcharge','Slope'],axis=1)  # defining X dataframe\n",
    "X.columns"
   ]
  },
  {
   "cell_type": "code",
   "execution_count": 25,
   "id": "3e972c76",
   "metadata": {},
   "outputs": [
    {
     "name": "stdout",
     "output_type": "stream",
     "text": [
      "<class 'pandas.core.frame.DataFrame'>\n",
      "Int64Index: 389 entries, 0 to 415\n",
      "Data columns (total 4 columns):\n",
      " #   Column             Non-Null Count  Dtype  \n",
      "---  ------             --------------  -----  \n",
      " 0   Height             389 non-null    float64\n",
      " 1   Angle_of_Friction  389 non-null    float64\n",
      " 2   Cohesion           389 non-null    float64\n",
      " 3   Slope_Angle        389 non-null    float64\n",
      "dtypes: float64(4)\n",
      "memory usage: 15.2 KB\n"
     ]
    }
   ],
   "source": [
    "X.info()"
   ]
  },
  {
   "cell_type": "code",
   "execution_count": 26,
   "id": "11c0f890",
   "metadata": {},
   "outputs": [],
   "source": [
    "y=df2[['FS']] # defining y"
   ]
  },
  {
   "cell_type": "code",
   "execution_count": 27,
   "id": "8cdeac13",
   "metadata": {},
   "outputs": [],
   "source": [
    "from sklearn.model_selection import train_test_split  # splitting the dataset into train and test datasets\n",
    "X_train,X_test,y_train,y_test = train_test_split(X,y,test_size=0.2)"
   ]
  },
  {
   "cell_type": "code",
   "execution_count": 28,
   "id": "cc7d8ad8",
   "metadata": {},
   "outputs": [
    {
     "data": {
      "text/html": [
       "<div>\n",
       "<style scoped>\n",
       "    .dataframe tbody tr th:only-of-type {\n",
       "        vertical-align: middle;\n",
       "    }\n",
       "\n",
       "    .dataframe tbody tr th {\n",
       "        vertical-align: top;\n",
       "    }\n",
       "\n",
       "    .dataframe thead th {\n",
       "        text-align: right;\n",
       "    }\n",
       "</style>\n",
       "<table border=\"1\" class=\"dataframe\">\n",
       "  <thead>\n",
       "    <tr style=\"text-align: right;\">\n",
       "      <th></th>\n",
       "      <th>FS</th>\n",
       "    </tr>\n",
       "  </thead>\n",
       "  <tbody>\n",
       "    <tr>\n",
       "      <th>240</th>\n",
       "      <td>7.924</td>\n",
       "    </tr>\n",
       "    <tr>\n",
       "      <th>126</th>\n",
       "      <td>7.802</td>\n",
       "    </tr>\n",
       "    <tr>\n",
       "      <th>398</th>\n",
       "      <td>1.679</td>\n",
       "    </tr>\n",
       "    <tr>\n",
       "      <th>317</th>\n",
       "      <td>9.126</td>\n",
       "    </tr>\n",
       "    <tr>\n",
       "      <th>127</th>\n",
       "      <td>3.640</td>\n",
       "    </tr>\n",
       "  </tbody>\n",
       "</table>\n",
       "</div>"
      ],
      "text/plain": [
       "        FS\n",
       "240  7.924\n",
       "126  7.802\n",
       "398  1.679\n",
       "317  9.126\n",
       "127  3.640"
      ]
     },
     "execution_count": 28,
     "metadata": {},
     "output_type": "execute_result"
    }
   ],
   "source": [
    "y_train.head()"
   ]
  },
  {
   "cell_type": "code",
   "execution_count": 29,
   "id": "ae30fb72",
   "metadata": {},
   "outputs": [
    {
     "data": {
      "text/html": [
       "<div>\n",
       "<style scoped>\n",
       "    .dataframe tbody tr th:only-of-type {\n",
       "        vertical-align: middle;\n",
       "    }\n",
       "\n",
       "    .dataframe tbody tr th {\n",
       "        vertical-align: top;\n",
       "    }\n",
       "\n",
       "    .dataframe thead th {\n",
       "        text-align: right;\n",
       "    }\n",
       "</style>\n",
       "<table border=\"1\" class=\"dataframe\">\n",
       "  <thead>\n",
       "    <tr style=\"text-align: right;\">\n",
       "      <th></th>\n",
       "      <th>Height</th>\n",
       "      <th>Angle_of_Friction</th>\n",
       "      <th>Cohesion</th>\n",
       "      <th>Slope_Angle</th>\n",
       "    </tr>\n",
       "  </thead>\n",
       "  <tbody>\n",
       "    <tr>\n",
       "      <th>240</th>\n",
       "      <td>6.0</td>\n",
       "      <td>10.0</td>\n",
       "      <td>150.0</td>\n",
       "      <td>45.00</td>\n",
       "    </tr>\n",
       "    <tr>\n",
       "      <th>126</th>\n",
       "      <td>3.0</td>\n",
       "      <td>35.0</td>\n",
       "      <td>50.0</td>\n",
       "      <td>33.69</td>\n",
       "    </tr>\n",
       "    <tr>\n",
       "      <th>398</th>\n",
       "      <td>12.0</td>\n",
       "      <td>15.0</td>\n",
       "      <td>50.0</td>\n",
       "      <td>63.43</td>\n",
       "    </tr>\n",
       "    <tr>\n",
       "      <th>317</th>\n",
       "      <td>3.0</td>\n",
       "      <td>10.0</td>\n",
       "      <td>100.0</td>\n",
       "      <td>63.43</td>\n",
       "    </tr>\n",
       "    <tr>\n",
       "      <th>127</th>\n",
       "      <td>3.0</td>\n",
       "      <td>40.0</td>\n",
       "      <td>10.0</td>\n",
       "      <td>33.69</td>\n",
       "    </tr>\n",
       "  </tbody>\n",
       "</table>\n",
       "</div>"
      ],
      "text/plain": [
       "     Height  Angle_of_Friction  Cohesion  Slope_Angle\n",
       "240     6.0               10.0     150.0        45.00\n",
       "126     3.0               35.0      50.0        33.69\n",
       "398    12.0               15.0      50.0        63.43\n",
       "317     3.0               10.0     100.0        63.43\n",
       "127     3.0               40.0      10.0        33.69"
      ]
     },
     "execution_count": 29,
     "metadata": {},
     "output_type": "execute_result"
    }
   ],
   "source": [
    "X_train.head()"
   ]
  },
  {
   "cell_type": "markdown",
   "id": "5c1b9366",
   "metadata": {},
   "source": [
    "### Linear Regression Model"
   ]
  },
  {
   "cell_type": "code",
   "execution_count": 30,
   "id": "88797236",
   "metadata": {},
   "outputs": [],
   "source": [
    "from sklearn.linear_model import LinearRegression # importing the necessary class from sklearn package of scikit learn library\n",
    "model1=LinearRegression()  # using Linear Regression Model"
   ]
  },
  {
   "cell_type": "code",
   "execution_count": 31,
   "id": "fedb19df",
   "metadata": {},
   "outputs": [
    {
     "data": {
      "text/plain": [
       "LinearRegression()"
      ]
     },
     "execution_count": 31,
     "metadata": {},
     "output_type": "execute_result"
    }
   ],
   "source": [
    "model1.fit(X_train,y_train)  # training the model"
   ]
  },
  {
   "cell_type": "code",
   "execution_count": 33,
   "id": "9e9287ba",
   "metadata": {},
   "outputs": [
    {
     "data": {
      "text/plain": [
       "0.8167429737657614"
      ]
     },
     "execution_count": 33,
     "metadata": {},
     "output_type": "execute_result"
    }
   ],
   "source": [
    "score1 = model1.score(X_test,y_test)\n",
    "score1                          # calculating the accuracy of the model"
   ]
  },
  {
   "cell_type": "markdown",
   "id": "99f9896f",
   "metadata": {},
   "source": [
    "### Decision Tree Regression Model"
   ]
  },
  {
   "cell_type": "code",
   "execution_count": 36,
   "id": "65e4ecb6",
   "metadata": {},
   "outputs": [],
   "source": [
    "from sklearn.tree import DecisionTreeRegressor # importing the necessary class from sklearn package of scikit learn library\n",
    "model2 = DecisionTreeRegressor()  # using Linear Regression Model"
   ]
  },
  {
   "cell_type": "code",
   "execution_count": 37,
   "id": "9fe6e8a4",
   "metadata": {},
   "outputs": [
    {
     "data": {
      "text/plain": [
       "DecisionTreeRegressor()"
      ]
     },
     "execution_count": 37,
     "metadata": {},
     "output_type": "execute_result"
    }
   ],
   "source": [
    "model2.fit(X_train,y_train)"
   ]
  },
  {
   "cell_type": "code",
   "execution_count": 39,
   "id": "2a42ae6d",
   "metadata": {},
   "outputs": [
    {
     "data": {
      "text/plain": [
       "0.959520061731363"
      ]
     },
     "execution_count": 39,
     "metadata": {},
     "output_type": "execute_result"
    }
   ],
   "source": [
    "score2 = model2.score(X_test,y_test)\n",
    "score2"
   ]
  },
  {
   "cell_type": "code",
   "execution_count": null,
   "id": "af54d82a",
   "metadata": {},
   "outputs": [],
   "source": [
    "# Model 2 has higher accuracy"
   ]
  },
  {
   "cell_type": "markdown",
   "id": "7fef3926",
   "metadata": {},
   "source": [
    "### Prediction"
   ]
  },
  {
   "cell_type": "code",
   "execution_count": 40,
   "id": "0fe82e83",
   "metadata": {},
   "outputs": [
    {
     "data": {
      "text/plain": [
       "array([9.126])"
      ]
     },
     "execution_count": 40,
     "metadata": {},
     "output_type": "execute_result"
    }
   ],
   "source": [
    "i=pd.DataFrame([[3,28,100,40]],columns=['Height','Angle_of_Friction','Cohesion','Slope_Angle']) # predicting FS using ML algorithm\n",
    "model2.predict(i)"
   ]
  },
  {
   "cell_type": "markdown",
   "id": "b56eea94",
   "metadata": {},
   "source": [
    "## Thank you!"
   ]
  }
 ],
 "metadata": {
  "kernelspec": {
   "display_name": "Python 3 (ipykernel)",
   "language": "python",
   "name": "python3"
  },
  "language_info": {
   "codemirror_mode": {
    "name": "ipython",
    "version": 3
   },
   "file_extension": ".py",
   "mimetype": "text/x-python",
   "name": "python",
   "nbconvert_exporter": "python",
   "pygments_lexer": "ipython3",
   "version": "3.9.13"
  }
 },
 "nbformat": 4,
 "nbformat_minor": 5
}
